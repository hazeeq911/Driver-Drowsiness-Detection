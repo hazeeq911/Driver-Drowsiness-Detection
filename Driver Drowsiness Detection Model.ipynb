{
  "nbformat": 4,
  "nbformat_minor": 0,
  "metadata": {
    "colab": {
      "provenance": [],
      "collapsed_sections": []
    },
    "kernelspec": {
      "name": "python3",
      "display_name": "Python 3"
    },
    "language_info": {
      "name": "python"
    },
    "accelerator": "GPU",
    "gpuClass": "standard"
  },
  "cells": [
    {
      "cell_type": "code",
      "source": [
        "# Mount your google drive to be able to access files there\n",
        "\n",
        "from google.colab import drive\n",
        "drive.mount('/content/gdrive')"
      ],
      "metadata": {
        "id": "-7eAWVOC5QLy",
        "outputId": "93a45d6c-87aa-4d74-85bd-b9b4f9d034f7",
        "colab": {
          "base_uri": "https://localhost:8080/"
        }
      },
      "execution_count": null,
      "outputs": [
        {
          "output_type": "stream",
          "name": "stdout",
          "text": [
            "Mounted at /content/gdrive\n"
          ]
        }
      ]
    },
    {
      "cell_type": "code",
      "execution_count": null,
      "metadata": {
        "colab": {
          "base_uri": "https://localhost:8080/"
        },
        "id": "ysjFg8pZ2MQi",
        "outputId": "4cf91c6e-99eb-4e13-8615-2fd663cabc1c"
      },
      "outputs": [
        {
          "output_type": "stream",
          "name": "stderr",
          "text": [
            "INFO:yolov5:YOLOv5 🚀 v6.1-386-g2e57b84 Python-3.7.13 torch-1.12.0+cu113 CUDA:0 (Tesla T4, 15110MiB)\n",
            "YOLOv5 🚀 v6.1-386-g2e57b84 Python-3.7.13 torch-1.12.0+cu113 CUDA:0 (Tesla T4, 15110MiB)\n"
          ]
        },
        {
          "output_type": "stream",
          "name": "stdout",
          "text": [
            "Setup complete ✅ (2 CPUs, 12.7 GB RAM, 37.4/78.2 GB disk)\n"
          ]
        }
      ],
      "source": [
        "# Clone YOLOv5 and import necessary libraries\n",
        "\n",
        "!git clone https://github.com/ultralytics/yolov5  # clone\n",
        "%cd yolov5\n",
        "%pip install -qr requirements.txt  # install\n",
        "\n",
        "import torch\n",
        "import utils\n",
        "display = utils.notebook_init()  # checks"
      ]
    },
    {
      "cell_type": "code",
      "source": [
        "# Check current directory and make sure it is directed to your Google Drive if not follow code below\n",
        "\n",
        "%pwd"
      ],
      "metadata": {
        "id": "HKeS6wJt6HHU",
        "outputId": "245c9755-27e4-4355-f8a7-d1e42a6c3838",
        "colab": {
          "base_uri": "https://localhost:8080/",
          "height": 36
        }
      },
      "execution_count": null,
      "outputs": [
        {
          "output_type": "execute_result",
          "data": {
            "text/plain": [
              "'/content/yolov5'"
            ],
            "application/vnd.google.colaboratory.intrinsic+json": {
              "type": "string"
            }
          },
          "metadata": {},
          "execution_count": 20
        }
      ]
    },
    {
      "cell_type": "code",
      "source": [
        "# Change directory to Google Drive if not already directed there\n",
        "\n",
        "%cd /content/gdrive/MyDrive"
      ],
      "metadata": {
        "id": "Sr0UYoOa6Jve",
        "outputId": "1307e712-f432-463e-e79d-9e1e3c6cb987",
        "colab": {
          "base_uri": "https://localhost:8080/"
        }
      },
      "execution_count": null,
      "outputs": [
        {
          "output_type": "stream",
          "name": "stdout",
          "text": [
            "/content/gdrive/MyDrive\n"
          ]
        }
      ]
    },
    {
      "cell_type": "code",
      "source": [
        "# Unzip the anotated dataset which was created using Roboflow and make sure the path for it is correct\n",
        "\n",
        "!unzip  Drowsy.zip -d /content/gdrive/MyDrive/Drowsy"
      ],
      "metadata": {
        "id": "cLGXZdPc4i88",
        "outputId": "ff9e242b-0d96-40a1-c0cf-ec6504d6eedb",
        "colab": {
          "base_uri": "https://localhost:8080/"
        }
      },
      "execution_count": null,
      "outputs": [
        {
          "output_type": "stream",
          "name": "stdout",
          "text": [
            "unzip:  cannot find or open Drowsy.zip, Drowsy.zip.zip or Drowsy.zip.ZIP.\n"
          ]
        }
      ]
    },
    {
      "cell_type": "code",
      "source": [
        "# Remove the dataset which was in zip form\n",
        "\n",
        "!rm -rf /content/gdrive/MyDrive/Drowsy.zip"
      ],
      "metadata": {
        "id": "ALYm1Rf06tSK"
      },
      "execution_count": null,
      "outputs": []
    },
    {
      "cell_type": "code",
      "source": [
        "#Change directory to recently installed yolov5\n",
        "\n",
        "%cd /content/yolov5"
      ],
      "metadata": {
        "id": "TY39Ba3Y7ptz",
        "outputId": "59b2e47a-5fbd-487e-dccf-a81d67ccbbb5",
        "colab": {
          "base_uri": "https://localhost:8080/"
        }
      },
      "execution_count": null,
      "outputs": [
        {
          "output_type": "stream",
          "name": "stdout",
          "text": [
            "/content/yolov5\n"
          ]
        }
      ]
    },
    {
      "cell_type": "markdown",
      "source": [
        "# Training the Dataset"
      ],
      "metadata": {
        "id": "9zB2sr7Szp_y"
      }
    },
    {
      "cell_type": "code",
      "source": [
        "# Train YOLOv5s on Custom for 150 epochs\n",
        "# Don't forget to also upload custom.yaml file to google drive with the directory as the dataset\n",
        "\n",
        "!python train.py --img 640 --batch 16 --epochs 150 --data custom.yaml --weights yolov5s.pt --cache"
      ],
      "metadata": {
        "id": "6Da04Lmz6yzj",
        "outputId": "3666c792-11f5-4578-891c-d13b1910efcd",
        "colab": {
          "base_uri": "https://localhost:8080/"
        }
      },
      "execution_count": null,
      "outputs": [
        {
          "output_type": "stream",
          "name": "stdout",
          "text": [
            "\u001b[34m\u001b[1mtrain: \u001b[0mweights=yolov5s.pt, cfg=, data=custom.yaml, hyp=data/hyps/hyp.scratch-low.yaml, epochs=60, batch_size=16, imgsz=640, rect=False, resume=False, nosave=False, noval=False, noautoanchor=False, noplots=False, evolve=None, bucket=, cache=ram, image_weights=False, device=, multi_scale=False, single_cls=False, optimizer=SGD, sync_bn=False, workers=8, project=runs/train, name=exp, exist_ok=False, quad=False, cos_lr=False, label_smoothing=0.0, patience=100, freeze=[0], save_period=-1, seed=0, local_rank=-1, entity=None, upload_dataset=False, bbox_interval=-1, artifact_alias=latest\n",
            "\u001b[34m\u001b[1mgithub: \u001b[0mup to date with https://github.com/ultralytics/yolov5 ✅\n",
            "YOLOv5 🚀 v6.1-386-g2e57b84 Python-3.7.13 torch-1.12.0+cu113 CUDA:0 (Tesla T4, 15110MiB)\n",
            "\n",
            "\u001b[34m\u001b[1mhyperparameters: \u001b[0mlr0=0.01, lrf=0.01, momentum=0.937, weight_decay=0.0005, warmup_epochs=3.0, warmup_momentum=0.8, warmup_bias_lr=0.1, box=0.05, cls=0.5, cls_pw=1.0, obj=1.0, obj_pw=1.0, iou_t=0.2, anchor_t=4.0, fl_gamma=0.0, hsv_h=0.015, hsv_s=0.7, hsv_v=0.4, degrees=0.0, translate=0.1, scale=0.5, shear=0.0, perspective=0.0, flipud=0.0, fliplr=0.5, mosaic=1.0, mixup=0.0, copy_paste=0.0\n",
            "\u001b[34m\u001b[1mWeights & Biases: \u001b[0mrun 'pip install wandb' to automatically track and visualize YOLOv5 🚀 runs in Weights & Biases\n",
            "\u001b[34m\u001b[1mClearML: \u001b[0mrun 'pip install clearml' to automatically track, visualize and remotely train YOLOv5 🚀 runs in ClearML\n",
            "\u001b[34m\u001b[1mTensorBoard: \u001b[0mStart with 'tensorboard --logdir runs/train', view at http://localhost:6006/\n",
            "Overriding model.yaml nc=80 with nc=2\n",
            "\n",
            "                 from  n    params  module                                  arguments                     \n",
            "  0                -1  1      3520  models.common.Conv                      [3, 32, 6, 2, 2]              \n",
            "  1                -1  1     18560  models.common.Conv                      [32, 64, 3, 2]                \n",
            "  2                -1  1     18816  models.common.C3                        [64, 64, 1]                   \n",
            "  3                -1  1     73984  models.common.Conv                      [64, 128, 3, 2]               \n",
            "  4                -1  2    115712  models.common.C3                        [128, 128, 2]                 \n",
            "  5                -1  1    295424  models.common.Conv                      [128, 256, 3, 2]              \n",
            "  6                -1  3    625152  models.common.C3                        [256, 256, 3]                 \n",
            "  7                -1  1   1180672  models.common.Conv                      [256, 512, 3, 2]              \n",
            "  8                -1  1   1182720  models.common.C3                        [512, 512, 1]                 \n",
            "  9                -1  1    656896  models.common.SPPF                      [512, 512, 5]                 \n",
            " 10                -1  1    131584  models.common.Conv                      [512, 256, 1, 1]              \n",
            " 11                -1  1         0  torch.nn.modules.upsampling.Upsample    [None, 2, 'nearest']          \n",
            " 12           [-1, 6]  1         0  models.common.Concat                    [1]                           \n",
            " 13                -1  1    361984  models.common.C3                        [512, 256, 1, False]          \n",
            " 14                -1  1     33024  models.common.Conv                      [256, 128, 1, 1]              \n",
            " 15                -1  1         0  torch.nn.modules.upsampling.Upsample    [None, 2, 'nearest']          \n",
            " 16           [-1, 4]  1         0  models.common.Concat                    [1]                           \n",
            " 17                -1  1     90880  models.common.C3                        [256, 128, 1, False]          \n",
            " 18                -1  1    147712  models.common.Conv                      [128, 128, 3, 2]              \n",
            " 19          [-1, 14]  1         0  models.common.Concat                    [1]                           \n",
            " 20                -1  1    296448  models.common.C3                        [256, 256, 1, False]          \n",
            " 21                -1  1    590336  models.common.Conv                      [256, 256, 3, 2]              \n",
            " 22          [-1, 10]  1         0  models.common.Concat                    [1]                           \n",
            " 23                -1  1   1182720  models.common.C3                        [512, 512, 1, False]          \n",
            " 24      [17, 20, 23]  1     18879  models.yolo.Detect                      [2, [[10, 13, 16, 30, 33, 23], [30, 61, 62, 45, 59, 119], [116, 90, 156, 198, 373, 326]], [128, 256, 512]]\n",
            "Model summary: 270 layers, 7025023 parameters, 7025023 gradients, 16.0 GFLOPs\n",
            "\n",
            "Transferred 343/349 items from yolov5s.pt\n",
            "\u001b[34m\u001b[1mAMP: \u001b[0mchecks passed ✅\n",
            "\u001b[34m\u001b[1moptimizer:\u001b[0m SGD(lr=0.01) with parameter groups 57 weight(decay=0.0), 60 weight(decay=0.0005), 60 bias\n",
            "\u001b[34m\u001b[1malbumentations: \u001b[0mBlur(always_apply=False, p=0.01, blur_limit=(3, 7)), MedianBlur(always_apply=False, p=0.01, blur_limit=(3, 7)), ToGray(always_apply=False, p=0.01), CLAHE(always_apply=False, p=0.01, clip_limit=(1, 4.0), tile_grid_size=(8, 8))\n",
            "\u001b[34m\u001b[1mtrain: \u001b[0mScanning '/content/gdrive/MyDrive/Drowsy/train/labels.cache' images and labels... 376 found, 0 missing, 0 empty, 0 corrupt: 100% 376/376 [00:00<?, ?it/s]\n",
            "\u001b[34m\u001b[1mtrain: \u001b[0mCaching images (0.5GB ram): 100% 376/376 [00:01<00:00, 195.16it/s]\n",
            "\u001b[34m\u001b[1mval: \u001b[0mScanning '/content/gdrive/MyDrive/Drowsy/valid/labels.cache' images and labels... 49 found, 0 missing, 0 empty, 0 corrupt: 100% 49/49 [00:00<?, ?it/s]\n",
            "\u001b[34m\u001b[1mval: \u001b[0mCaching images (0.1GB ram): 100% 49/49 [00:00<00:00, 71.43it/s]\n",
            "Plotting labels to runs/train/exp2/labels.jpg... \n",
            "\n",
            "\u001b[34m\u001b[1mAutoAnchor: \u001b[0m6.00 anchors/target, 1.000 Best Possible Recall (BPR). Current anchors are a good fit to dataset ✅\n",
            "Image sizes 640 train, 640 val\n",
            "Using 2 dataloader workers\n",
            "Logging results to \u001b[1mruns/train/exp2\u001b[0m\n",
            "Starting training for 60 epochs...\n",
            "\n",
            "     Epoch   gpu_mem       box       obj       cls    labels  img_size\n",
            "      0/59     3.73G    0.1084   0.02902   0.02873        22       640: 100% 24/24 [00:09<00:00,  2.57it/s]\n",
            "               Class     Images     Labels          P          R     mAP@.5 mAP@.5:.95: 100% 2/2 [00:00<00:00,  2.02it/s]\n",
            "                 all         49         61    0.00158      0.397    0.00163   0.000352\n",
            "\n",
            "     Epoch   gpu_mem       box       obj       cls    labels  img_size\n",
            "      1/59     4.63G   0.07866   0.02566   0.02543        10       640: 100% 24/24 [00:05<00:00,  4.08it/s]\n",
            "               Class     Images     Labels          P          R     mAP@.5 mAP@.5:.95: 100% 2/2 [00:00<00:00,  3.41it/s]\n",
            "                 all         49         61    0.00404      0.978     0.0641     0.0168\n",
            "\n",
            "     Epoch   gpu_mem       box       obj       cls    labels  img_size\n",
            "      2/59     4.63G    0.0729    0.0216   0.02385         9       640: 100% 24/24 [00:05<00:00,  4.09it/s]\n",
            "               Class     Images     Labels          P          R     mAP@.5 mAP@.5:.95: 100% 2/2 [00:00<00:00,  3.85it/s]\n",
            "                 all         49         61    0.00412          1      0.146      0.059\n",
            "\n",
            "     Epoch   gpu_mem       box       obj       cls    labels  img_size\n",
            "      3/59     4.63G   0.07088   0.02095   0.02522         9       640: 100% 24/24 [00:05<00:00,  4.18it/s]\n",
            "               Class     Images     Labels          P          R     mAP@.5 mAP@.5:.95: 100% 2/2 [00:00<00:00,  4.14it/s]\n",
            "                 all         49         61     0.0706      0.721      0.196     0.0468\n",
            "\n",
            "     Epoch   gpu_mem       box       obj       cls    labels  img_size\n",
            "      4/59     4.63G   0.06647   0.02017   0.02484        10       640: 100% 24/24 [00:05<00:00,  4.18it/s]\n",
            "               Class     Images     Labels          P          R     mAP@.5 mAP@.5:.95: 100% 2/2 [00:00<00:00,  4.35it/s]\n",
            "                 all         49         61      0.336      0.527      0.375      0.109\n",
            "\n",
            "     Epoch   gpu_mem       box       obj       cls    labels  img_size\n",
            "      5/59     4.63G   0.05848   0.01761   0.02467        14       640: 100% 24/24 [00:05<00:00,  4.13it/s]\n",
            "               Class     Images     Labels          P          R     mAP@.5 mAP@.5:.95: 100% 2/2 [00:00<00:00,  4.28it/s]\n",
            "                 all         49         61      0.314      0.381      0.365      0.122\n",
            "\n",
            "     Epoch   gpu_mem       box       obj       cls    labels  img_size\n",
            "      6/59     4.63G    0.0563   0.01562   0.02236        19       640: 100% 24/24 [00:05<00:00,  4.20it/s]\n",
            "               Class     Images     Labels          P          R     mAP@.5 mAP@.5:.95: 100% 2/2 [00:00<00:00,  4.03it/s]\n",
            "                 all         49         61      0.688       0.63      0.671      0.312\n",
            "\n",
            "     Epoch   gpu_mem       box       obj       cls    labels  img_size\n",
            "      7/59     4.63G   0.05205   0.01338   0.01987        17       640: 100% 24/24 [00:07<00:00,  3.17it/s]\n",
            "               Class     Images     Labels          P          R     mAP@.5 mAP@.5:.95: 100% 2/2 [00:00<00:00,  3.62it/s]\n",
            "                 all         49         61      0.727      0.714      0.788      0.324\n",
            "\n",
            "     Epoch   gpu_mem       box       obj       cls    labels  img_size\n",
            "      8/59     4.63G   0.05116   0.01206   0.01694        16       640: 100% 24/24 [00:05<00:00,  4.10it/s]\n",
            "               Class     Images     Labels          P          R     mAP@.5 mAP@.5:.95: 100% 2/2 [00:00<00:00,  3.93it/s]\n",
            "                 all         49         61      0.634      0.773      0.722      0.348\n",
            "\n",
            "     Epoch   gpu_mem       box       obj       cls    labels  img_size\n",
            "      9/59     4.63G   0.04897   0.01225   0.01452        18       640: 100% 24/24 [00:05<00:00,  4.09it/s]\n",
            "               Class     Images     Labels          P          R     mAP@.5 mAP@.5:.95: 100% 2/2 [00:00<00:00,  3.81it/s]\n",
            "                 all         49         61      0.756      0.751      0.788      0.356\n",
            "\n",
            "     Epoch   gpu_mem       box       obj       cls    labels  img_size\n",
            "     10/59     4.63G   0.04702   0.01095   0.01206        15       640: 100% 24/24 [00:05<00:00,  4.19it/s]\n",
            "               Class     Images     Labels          P          R     mAP@.5 mAP@.5:.95: 100% 2/2 [00:00<00:00,  3.72it/s]\n",
            "                 all         49         61      0.571      0.682      0.695      0.288\n",
            "\n",
            "     Epoch   gpu_mem       box       obj       cls    labels  img_size\n",
            "     11/59     4.63G   0.04494   0.01005  0.009757        10       640: 100% 24/24 [00:05<00:00,  4.10it/s]\n",
            "               Class     Images     Labels          P          R     mAP@.5 mAP@.5:.95: 100% 2/2 [00:00<00:00,  4.13it/s]\n",
            "                 all         49         61       0.87      0.866      0.934      0.444\n",
            "\n",
            "     Epoch   gpu_mem       box       obj       cls    labels  img_size\n",
            "     12/59     4.63G    0.0453  0.009675   0.00805        10       640: 100% 24/24 [00:05<00:00,  4.17it/s]\n",
            "               Class     Images     Labels          P          R     mAP@.5 mAP@.5:.95: 100% 2/2 [00:00<00:00,  4.12it/s]\n",
            "                 all         49         61      0.879      0.755      0.857      0.327\n",
            "\n",
            "     Epoch   gpu_mem       box       obj       cls    labels  img_size\n",
            "     13/59     4.63G   0.04401  0.009701  0.007126        11       640: 100% 24/24 [00:05<00:00,  4.07it/s]\n",
            "               Class     Images     Labels          P          R     mAP@.5 mAP@.5:.95: 100% 2/2 [00:00<00:00,  4.55it/s]\n",
            "                 all         49         61      0.848      0.837      0.898       0.37\n",
            "\n",
            "     Epoch   gpu_mem       box       obj       cls    labels  img_size\n",
            "     14/59     4.63G   0.04114  0.009212  0.007473        13       640: 100% 24/24 [00:05<00:00,  4.15it/s]\n",
            "               Class     Images     Labels          P          R     mAP@.5 mAP@.5:.95: 100% 2/2 [00:00<00:00,  3.83it/s]\n",
            "                 all         49         61      0.911          1      0.989      0.451\n",
            "\n",
            "     Epoch   gpu_mem       box       obj       cls    labels  img_size\n",
            "     15/59     4.63G   0.04085  0.009219   0.00632        15       640: 100% 24/24 [00:05<00:00,  4.10it/s]\n",
            "               Class     Images     Labels          P          R     mAP@.5 mAP@.5:.95: 100% 2/2 [00:00<00:00,  4.24it/s]\n",
            "                 all         49         61      0.926      0.939      0.941      0.451\n",
            "\n",
            "     Epoch   gpu_mem       box       obj       cls    labels  img_size\n",
            "     16/59     4.63G   0.04054  0.008907  0.005511        13       640: 100% 24/24 [00:05<00:00,  4.10it/s]\n",
            "               Class     Images     Labels          P          R     mAP@.5 mAP@.5:.95: 100% 2/2 [00:00<00:00,  4.19it/s]\n",
            "                 all         49         61      0.809      0.987      0.951      0.453\n",
            "\n",
            "     Epoch   gpu_mem       box       obj       cls    labels  img_size\n",
            "     17/59     4.63G   0.04111  0.008485  0.004736        12       640: 100% 24/24 [00:05<00:00,  4.17it/s]\n",
            "               Class     Images     Labels          P          R     mAP@.5 mAP@.5:.95: 100% 2/2 [00:00<00:00,  4.29it/s]\n",
            "                 all         49         61      0.966      0.975      0.971      0.441\n",
            "\n",
            "     Epoch   gpu_mem       box       obj       cls    labels  img_size\n",
            "     18/59     4.63G   0.03919  0.009283  0.003952        18       640: 100% 24/24 [00:05<00:00,  4.12it/s]\n",
            "               Class     Images     Labels          P          R     mAP@.5 mAP@.5:.95: 100% 2/2 [00:00<00:00,  4.39it/s]\n",
            "                 all         49         61      0.918       0.99      0.989      0.486\n",
            "\n",
            "     Epoch   gpu_mem       box       obj       cls    labels  img_size\n",
            "     19/59     4.63G   0.03917  0.008263  0.003886        11       640: 100% 24/24 [00:05<00:00,  4.16it/s]\n",
            "               Class     Images     Labels          P          R     mAP@.5 mAP@.5:.95: 100% 2/2 [00:00<00:00,  3.61it/s]\n",
            "                 all         49         61      0.863      0.939      0.962      0.442\n",
            "\n",
            "     Epoch   gpu_mem       box       obj       cls    labels  img_size\n",
            "     20/59     4.63G   0.03819  0.008231  0.003701        14       640: 100% 24/24 [00:05<00:00,  4.16it/s]\n",
            "               Class     Images     Labels          P          R     mAP@.5 mAP@.5:.95: 100% 2/2 [00:00<00:00,  3.84it/s]\n",
            "                 all         49         61      0.978          1      0.995      0.516\n",
            "\n",
            "     Epoch   gpu_mem       box       obj       cls    labels  img_size\n",
            "     21/59     4.63G   0.03734  0.008652  0.004114        12       640: 100% 24/24 [00:05<00:00,  4.09it/s]\n",
            "               Class     Images     Labels          P          R     mAP@.5 mAP@.5:.95: 100% 2/2 [00:00<00:00,  3.67it/s]\n",
            "                 all         49         61      0.976      0.978      0.981      0.487\n",
            "\n",
            "     Epoch   gpu_mem       box       obj       cls    labels  img_size\n",
            "     22/59     4.63G   0.03604  0.008072  0.003522        14       640: 100% 24/24 [00:05<00:00,  4.19it/s]\n",
            "               Class     Images     Labels          P          R     mAP@.5 mAP@.5:.95: 100% 2/2 [00:00<00:00,  4.14it/s]\n",
            "                 all         49         61      0.996          1      0.995      0.448\n",
            "\n",
            "     Epoch   gpu_mem       box       obj       cls    labels  img_size\n",
            "     23/59     4.63G   0.03577  0.008104   0.00395        12       640: 100% 24/24 [00:05<00:00,  4.14it/s]\n",
            "               Class     Images     Labels          P          R     mAP@.5 mAP@.5:.95: 100% 2/2 [00:00<00:00,  4.27it/s]\n",
            "                 all         49         61      0.977      0.998      0.995      0.564\n",
            "\n",
            "     Epoch   gpu_mem       box       obj       cls    labels  img_size\n",
            "     24/59     4.63G   0.03366  0.008378  0.003439        11       640: 100% 24/24 [00:05<00:00,  4.06it/s]\n",
            "               Class     Images     Labels          P          R     mAP@.5 mAP@.5:.95: 100% 2/2 [00:00<00:00,  4.31it/s]\n",
            "                 all         49         61      0.995      0.987      0.988      0.549\n",
            "\n",
            "     Epoch   gpu_mem       box       obj       cls    labels  img_size\n",
            "     25/59     4.63G   0.03525  0.008311  0.002872        18       640: 100% 24/24 [00:05<00:00,  4.17it/s]\n",
            "               Class     Images     Labels          P          R     mAP@.5 mAP@.5:.95: 100% 2/2 [00:00<00:00,  3.88it/s]\n",
            "                 all         49         61      0.984      0.983      0.995      0.511\n",
            "\n",
            "     Epoch   gpu_mem       box       obj       cls    labels  img_size\n",
            "     26/59     4.63G   0.03317  0.007738  0.004038        18       640: 100% 24/24 [00:07<00:00,  3.15it/s]\n",
            "               Class     Images     Labels          P          R     mAP@.5 mAP@.5:.95: 100% 2/2 [00:00<00:00,  3.30it/s]\n",
            "                 all         49         61      0.982      0.998      0.995      0.559\n",
            "\n",
            "     Epoch   gpu_mem       box       obj       cls    labels  img_size\n",
            "     27/59     4.63G   0.03364  0.007895  0.003168        15       640: 100% 24/24 [00:06<00:00,  3.99it/s]\n",
            "               Class     Images     Labels          P          R     mAP@.5 mAP@.5:.95: 100% 2/2 [00:00<00:00,  4.30it/s]\n",
            "                 all         49         61      0.956      0.969      0.974      0.521\n",
            "\n",
            "     Epoch   gpu_mem       box       obj       cls    labels  img_size\n",
            "     28/59     4.63G   0.03254  0.007786  0.002918        15       640: 100% 24/24 [00:05<00:00,  4.04it/s]\n",
            "               Class     Images     Labels          P          R     mAP@.5 mAP@.5:.95: 100% 2/2 [00:00<00:00,  4.19it/s]\n",
            "                 all         49         61      0.961      0.957      0.964        0.5\n",
            "\n",
            "     Epoch   gpu_mem       box       obj       cls    labels  img_size\n",
            "     29/59     4.63G   0.03266   0.00796  0.003278        15       640: 100% 24/24 [00:06<00:00,  4.00it/s]\n",
            "               Class     Images     Labels          P          R     mAP@.5 mAP@.5:.95: 100% 2/2 [00:00<00:00,  4.07it/s]\n",
            "                 all         49         61      0.982      0.978      0.988      0.529\n",
            "\n",
            "     Epoch   gpu_mem       box       obj       cls    labels  img_size\n",
            "     30/59     4.63G   0.03226  0.007957  0.003806        18       640: 100% 24/24 [00:05<00:00,  4.16it/s]\n",
            "               Class     Images     Labels          P          R     mAP@.5 mAP@.5:.95: 100% 2/2 [00:00<00:00,  4.07it/s]\n",
            "                 all         49         61      0.998          1      0.995      0.559\n",
            "\n",
            "     Epoch   gpu_mem       box       obj       cls    labels  img_size\n",
            "     31/59     4.63G   0.03162  0.007261  0.002347        14       640: 100% 24/24 [00:05<00:00,  4.13it/s]\n",
            "               Class     Images     Labels          P          R     mAP@.5 mAP@.5:.95: 100% 2/2 [00:00<00:00,  4.10it/s]\n",
            "                 all         49         61      0.998          1      0.995      0.562\n",
            "\n",
            "     Epoch   gpu_mem       box       obj       cls    labels  img_size\n",
            "     32/59     4.63G   0.03183  0.007615  0.002143        16       640: 100% 24/24 [00:05<00:00,  4.15it/s]\n",
            "               Class     Images     Labels          P          R     mAP@.5 mAP@.5:.95: 100% 2/2 [00:00<00:00,  3.56it/s]\n",
            "                 all         49         61      0.997          1      0.995      0.545\n",
            "\n",
            "     Epoch   gpu_mem       box       obj       cls    labels  img_size\n",
            "     33/59     4.63G   0.03091  0.007901  0.002587        17       640: 100% 24/24 [00:06<00:00,  3.97it/s]\n",
            "               Class     Images     Labels          P          R     mAP@.5 mAP@.5:.95: 100% 2/2 [00:00<00:00,  4.03it/s]\n",
            "                 all         49         61      0.985      0.978      0.989       0.51\n",
            "\n",
            "     Epoch   gpu_mem       box       obj       cls    labels  img_size\n",
            "     34/59     4.63G    0.0314  0.007558  0.002574        18       640: 100% 24/24 [00:05<00:00,  4.08it/s]\n",
            "               Class     Images     Labels          P          R     mAP@.5 mAP@.5:.95: 100% 2/2 [00:00<00:00,  4.32it/s]\n",
            "                 all         49         61      0.996          1      0.995      0.555\n",
            "\n",
            "     Epoch   gpu_mem       box       obj       cls    labels  img_size\n",
            "     35/59     4.63G   0.03105  0.007719  0.002159        10       640: 100% 24/24 [00:05<00:00,  4.07it/s]\n",
            "               Class     Images     Labels          P          R     mAP@.5 mAP@.5:.95: 100% 2/2 [00:00<00:00,  4.30it/s]\n",
            "                 all         49         61      0.984      0.987      0.981      0.543\n",
            "\n",
            "     Epoch   gpu_mem       box       obj       cls    labels  img_size\n",
            "     36/59     4.63G   0.03009   0.00781  0.002021        13       640: 100% 24/24 [00:05<00:00,  4.11it/s]\n",
            "               Class     Images     Labels          P          R     mAP@.5 mAP@.5:.95: 100% 2/2 [00:00<00:00,  4.09it/s]\n",
            "                 all         49         61      0.997          1      0.995      0.571\n",
            "\n",
            "     Epoch   gpu_mem       box       obj       cls    labels  img_size\n",
            "     37/59     4.63G   0.02948  0.007647  0.002018        13       640: 100% 24/24 [00:05<00:00,  4.11it/s]\n",
            "               Class     Images     Labels          P          R     mAP@.5 mAP@.5:.95: 100% 2/2 [00:00<00:00,  3.95it/s]\n",
            "                 all         49         61      0.996          1      0.995      0.554\n",
            "\n",
            "     Epoch   gpu_mem       box       obj       cls    labels  img_size\n",
            "     38/59     4.63G    0.0291  0.007359  0.001907        15       640: 100% 24/24 [00:05<00:00,  4.09it/s]\n",
            "               Class     Images     Labels          P          R     mAP@.5 mAP@.5:.95: 100% 2/2 [00:00<00:00,  4.13it/s]\n",
            "                 all         49         61      0.997          1      0.995      0.546\n",
            "\n",
            "     Epoch   gpu_mem       box       obj       cls    labels  img_size\n",
            "     39/59     4.63G   0.02909  0.007284  0.001506        15       640: 100% 24/24 [00:05<00:00,  4.00it/s]\n",
            "               Class     Images     Labels          P          R     mAP@.5 mAP@.5:.95: 100% 2/2 [00:00<00:00,  4.40it/s]\n",
            "                 all         49         61      0.996          1      0.995      0.535\n",
            "\n",
            "     Epoch   gpu_mem       box       obj       cls    labels  img_size\n",
            "     40/59     4.63G   0.02833  0.007037  0.001947         9       640: 100% 24/24 [00:05<00:00,  4.06it/s]\n",
            "               Class     Images     Labels          P          R     mAP@.5 mAP@.5:.95: 100% 2/2 [00:00<00:00,  4.26it/s]\n",
            "                 all         49         61      0.995          1      0.995       0.55\n",
            "\n",
            "     Epoch   gpu_mem       box       obj       cls    labels  img_size\n",
            "     41/59     4.63G    0.0282  0.006892  0.001211        15       640: 100% 24/24 [00:05<00:00,  4.20it/s]\n",
            "               Class     Images     Labels          P          R     mAP@.5 mAP@.5:.95: 100% 2/2 [00:00<00:00,  3.89it/s]\n",
            "                 all         49         61      0.979      0.999      0.995      0.563\n",
            "\n",
            "     Epoch   gpu_mem       box       obj       cls    labels  img_size\n",
            "     42/59     4.63G   0.02745  0.007279  0.002186         8       640: 100% 24/24 [00:05<00:00,  4.12it/s]\n",
            "               Class     Images     Labels          P          R     mAP@.5 mAP@.5:.95: 100% 2/2 [00:00<00:00,  4.28it/s]\n",
            "                 all         49         61      0.984      0.978      0.983      0.553\n",
            "\n",
            "     Epoch   gpu_mem       box       obj       cls    labels  img_size\n",
            "     43/59     4.63G    0.0278  0.007074  0.001536        15       640: 100% 24/24 [00:05<00:00,  4.09it/s]\n",
            "               Class     Images     Labels          P          R     mAP@.5 mAP@.5:.95: 100% 2/2 [00:00<00:00,  4.59it/s]\n",
            "                 all         49         61      0.984      0.978      0.992      0.575\n",
            "\n",
            "     Epoch   gpu_mem       box       obj       cls    labels  img_size\n",
            "     44/59     4.63G   0.02733  0.007729  0.001653        22       640: 100% 24/24 [00:05<00:00,  4.07it/s]\n",
            "               Class     Images     Labels          P          R     mAP@.5 mAP@.5:.95: 100% 2/2 [00:00<00:00,  4.19it/s]\n",
            "                 all         49         61      0.998          1      0.995      0.551\n",
            "\n",
            "     Epoch   gpu_mem       box       obj       cls    labels  img_size\n",
            "     45/59     4.63G   0.02676  0.007199  0.001813        14       640: 100% 24/24 [00:06<00:00,  3.73it/s]\n",
            "               Class     Images     Labels          P          R     mAP@.5 mAP@.5:.95: 100% 2/2 [00:01<00:00,  1.99it/s]\n",
            "                 all         49         61      0.997          1      0.995      0.546\n",
            "\n",
            "     Epoch   gpu_mem       box       obj       cls    labels  img_size\n",
            "     46/59     4.63G   0.02669  0.007529  0.001416        17       640: 100% 24/24 [00:06<00:00,  3.93it/s]\n",
            "               Class     Images     Labels          P          R     mAP@.5 mAP@.5:.95: 100% 2/2 [00:00<00:00,  4.33it/s]\n",
            "                 all         49         61      0.996          1      0.995      0.525\n",
            "\n",
            "     Epoch   gpu_mem       box       obj       cls    labels  img_size\n",
            "     47/59     4.63G   0.02585  0.007127  0.001742        14       640: 100% 24/24 [00:05<00:00,  4.01it/s]\n",
            "               Class     Images     Labels          P          R     mAP@.5 mAP@.5:.95: 100% 2/2 [00:00<00:00,  4.16it/s]\n",
            "                 all         49         61      0.996          1      0.995      0.557\n",
            "\n",
            "     Epoch   gpu_mem       box       obj       cls    labels  img_size\n",
            "     48/59     4.63G   0.02614  0.007139  0.001198        16       640: 100% 24/24 [00:05<00:00,  4.15it/s]\n",
            "               Class     Images     Labels          P          R     mAP@.5 mAP@.5:.95: 100% 2/2 [00:00<00:00,  3.72it/s]\n",
            "                 all         49         61      0.998          1      0.995      0.569\n",
            "\n",
            "     Epoch   gpu_mem       box       obj       cls    labels  img_size\n",
            "     49/59     4.63G   0.02574  0.007182  0.001763        12       640: 100% 24/24 [00:05<00:00,  4.05it/s]\n",
            "               Class     Images     Labels          P          R     mAP@.5 mAP@.5:.95: 100% 2/2 [00:00<00:00,  4.35it/s]\n",
            "                 all         49         61      0.997          1      0.995      0.566\n",
            "\n",
            "     Epoch   gpu_mem       box       obj       cls    labels  img_size\n",
            "     50/59     4.63G   0.02471  0.006373 0.0009591         7       640: 100% 24/24 [00:05<00:00,  4.16it/s]\n",
            "               Class     Images     Labels          P          R     mAP@.5 mAP@.5:.95: 100% 2/2 [00:00<00:00,  3.82it/s]\n",
            "                 all         49         61      0.977      0.998      0.993      0.549\n",
            "\n",
            "     Epoch   gpu_mem       box       obj       cls    labels  img_size\n",
            "     51/59     4.63G   0.02517  0.007237  0.001031        23       640: 100% 24/24 [00:05<00:00,  4.13it/s]\n",
            "               Class     Images     Labels          P          R     mAP@.5 mAP@.5:.95: 100% 2/2 [00:00<00:00,  4.31it/s]\n",
            "                 all         49         61      0.985      0.978      0.978      0.543\n",
            "\n",
            "     Epoch   gpu_mem       box       obj       cls    labels  img_size\n",
            "     52/59     4.63G   0.02417  0.006941   0.00126        12       640: 100% 24/24 [00:05<00:00,  4.07it/s]\n",
            "               Class     Images     Labels          P          R     mAP@.5 mAP@.5:.95: 100% 2/2 [00:00<00:00,  4.25it/s]\n",
            "                 all         49         61      0.985      0.978      0.987      0.553\n",
            "\n",
            "     Epoch   gpu_mem       box       obj       cls    labels  img_size\n",
            "     53/59     4.63G   0.02438  0.007448 0.0009873         6       640: 100% 24/24 [00:05<00:00,  4.09it/s]\n",
            "               Class     Images     Labels          P          R     mAP@.5 mAP@.5:.95: 100% 2/2 [00:00<00:00,  4.04it/s]\n",
            "                 all         49         61       0.98      0.999      0.994      0.575\n",
            "\n",
            "     Epoch   gpu_mem       box       obj       cls    labels  img_size\n",
            "     54/59     4.63G   0.02396  0.007038  0.000825         9       640: 100% 24/24 [00:05<00:00,  4.20it/s]\n",
            "               Class     Images     Labels          P          R     mAP@.5 mAP@.5:.95: 100% 2/2 [00:00<00:00,  3.88it/s]\n",
            "                 all         49         61       0.98      0.999      0.995      0.575\n",
            "\n",
            "     Epoch   gpu_mem       box       obj       cls    labels  img_size\n",
            "     55/59     4.63G   0.02411  0.007022  0.001121        19       640: 100% 24/24 [00:05<00:00,  4.08it/s]\n",
            "               Class     Images     Labels          P          R     mAP@.5 mAP@.5:.95: 100% 2/2 [00:00<00:00,  4.30it/s]\n",
            "                 all         49         61      0.983      0.999      0.995      0.578\n",
            "\n",
            "     Epoch   gpu_mem       box       obj       cls    labels  img_size\n",
            "     56/59     4.63G   0.02457  0.006874  0.000969        11       640: 100% 24/24 [00:05<00:00,  4.11it/s]\n",
            "               Class     Images     Labels          P          R     mAP@.5 mAP@.5:.95: 100% 2/2 [00:00<00:00,  4.39it/s]\n",
            "                 all         49         61      0.977      0.999      0.993      0.563\n",
            "\n",
            "     Epoch   gpu_mem       box       obj       cls    labels  img_size\n",
            "     57/59     4.63G   0.02399  0.006871    0.0011        14       640: 100% 24/24 [00:05<00:00,  4.15it/s]\n",
            "               Class     Images     Labels          P          R     mAP@.5 mAP@.5:.95: 100% 2/2 [00:00<00:00,  3.94it/s]\n",
            "                 all         49         61      0.976      0.999      0.993       0.55\n",
            "\n",
            "     Epoch   gpu_mem       box       obj       cls    labels  img_size\n",
            "     58/59     4.63G   0.02324  0.006708  0.001181        10       640: 100% 24/24 [00:05<00:00,  4.09it/s]\n",
            "               Class     Images     Labels          P          R     mAP@.5 mAP@.5:.95: 100% 2/2 [00:00<00:00,  4.38it/s]\n",
            "                 all         49         61      0.979      0.999      0.995      0.565\n",
            "\n",
            "     Epoch   gpu_mem       box       obj       cls    labels  img_size\n",
            "     59/59     4.63G   0.02385  0.007241 0.0009251        19       640: 100% 24/24 [00:05<00:00,  4.06it/s]\n",
            "               Class     Images     Labels          P          R     mAP@.5 mAP@.5:.95: 100% 2/2 [00:00<00:00,  3.98it/s]\n",
            "                 all         49         61      0.996          1      0.995      0.562\n",
            "\n",
            "60 epochs completed in 0.115 hours.\n",
            "Optimizer stripped from runs/train/exp2/weights/last.pt, 14.5MB\n",
            "Optimizer stripped from runs/train/exp2/weights/best.pt, 14.5MB\n",
            "\n",
            "Validating runs/train/exp2/weights/best.pt...\n",
            "Fusing layers... \n",
            "Model summary: 213 layers, 7015519 parameters, 0 gradients, 15.8 GFLOPs\n",
            "               Class     Images     Labels          P          R     mAP@.5 mAP@.5:.95: 100% 2/2 [00:00<00:00,  2.15it/s]\n",
            "                 all         49         61      0.983      0.999      0.995      0.578\n",
            "           Open-Eyes         49         23          1      0.998      0.995       0.62\n",
            "         Closed-Eyes         49         38      0.965          1      0.995      0.536\n",
            "Results saved to \u001b[1mruns/train/exp2\u001b[0m\n"
          ]
        }
      ]
    },
    {
      "cell_type": "markdown",
      "source": [
        "# Model testing"
      ],
      "metadata": {
        "id": "R--_eof90Axb"
      }
    },
    {
      "cell_type": "code",
      "source": [
        "#Testing the dataset using a video with the best model from the previous training\n",
        "#You can use any video related to eyes opening and closing\n",
        "\n",
        "!python detect.py --weights /content/yolov5/runs/train/exp2/weights/best.pt --img 640 --conf 0.25 --source /content/gdrive/MyDrive/video.mp4"
      ],
      "metadata": {
        "id": "kfU0Mn2S_4V_",
        "outputId": "c1df25bc-f403-4c33-b4d6-d776ab2fbfd2",
        "colab": {
          "base_uri": "https://localhost:8080/"
        }
      },
      "execution_count": null,
      "outputs": [
        {
          "output_type": "stream",
          "name": "stdout",
          "text": [
            "\u001b[34m\u001b[1mdetect: \u001b[0mweights=['/content/yolov5/runs/train/exp2/weights/best.pt'], source=0, data=data/coco128.yaml, imgsz=[640, 640], conf_thres=0.25, iou_thres=0.45, max_det=1000, device=, view_img=False, save_txt=False, save_conf=False, save_crop=False, nosave=False, classes=None, agnostic_nms=False, augment=False, visualize=False, update=False, project=runs/detect, name=exp, exist_ok=False, line_thickness=3, hide_labels=False, hide_conf=False, half=False, dnn=False\n",
            "YOLOv5 🚀 v6.1-386-g2e57b84 Python-3.7.13 torch-1.12.0+cu113 CUDA:0 (Tesla T4, 15110MiB)\n",
            "\n",
            "Fusing layers... \n",
            "Model summary: 213 layers, 7015519 parameters, 0 gradients, 15.8 GFLOPs\n",
            "WARNING: Environment does not support cv2.imshow() or PIL Image.show() image displays\n",
            "cv2.imshow() is disabled in Docker environments\n",
            "Traceback (most recent call last):\n",
            "  File \"detect.py\", line 257, in <module>\n",
            "    main(opt)\n",
            "  File \"detect.py\", line 252, in main\n",
            "    run(**vars(opt))\n",
            "  File \"/usr/local/lib/python3.7/dist-packages/torch/autograd/grad_mode.py\", line 27, in decorate_context\n",
            "    return func(*args, **kwargs)\n",
            "  File \"detect.py\", line 101, in run\n",
            "    dataset = LoadStreams(source, img_size=imgsz, stride=stride, auto=pt)\n",
            "  File \"/content/yolov5/utils/dataloaders.py\", line 336, in __init__\n",
            "    assert not is_colab(), '--source 0 webcam unsupported on Colab. Rerun command in a local environment.'\n",
            "AssertionError: --source 0 webcam unsupported on Colab. Rerun command in a local environment.\n"
          ]
        }
      ]
    },
    {
      "cell_type": "markdown",
      "source": [
        "# Don't forget to save 'best.pt' to use later on by saving the file from the path for inference on the NVIDIA® Jetson Nano™."
      ],
      "metadata": {
        "id": "B4uBDICR92KR"
      }
    }
  ]
}